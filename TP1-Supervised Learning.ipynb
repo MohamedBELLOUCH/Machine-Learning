{
 "cells": [
  {
   "cell_type": "markdown",
   "id": "b986499e-75cc-4b52-a4ea-8cedb201abca",
   "metadata": {},
   "source": [
    "# TP Machine Learning - Unupervised Learning"
   ]
  },
  {
   "cell_type": "markdown",
   "id": "c907323a-9917-48a6-bb7f-813fd01f9cb2",
   "metadata": {},
   "source": [
    "### Importation des packages"
   ]
  },
  {
   "cell_type": "code",
   "execution_count": 332,
   "id": "08b1cb3c-35d3-4056-aa61-34bcb40eb8d7",
   "metadata": {},
   "outputs": [],
   "source": [
    "%matplotlib inline\n",
    "import matplotlib.pyplot as plt\n",
    "import numpy as np\n",
    "import pandas as pd"
   ]
  },
  {
   "cell_type": "markdown",
   "id": "3a6aca3c-d2aa-4ab9-b7d4-53a15906f283",
   "metadata": {},
   "source": [
    "## Workflow de classification Scikit-Learn de bout en bout"
   ]
  },
  {
   "cell_type": "markdown",
   "id": "a3971015-2285-441f-ba3c-6dc17591bc4f",
   "metadata": {},
   "source": [
    "### 1. Préparer les données :"
   ]
  },
  {
   "cell_type": "code",
   "execution_count": 333,
   "id": "b608aa20-eccb-44bc-8352-906874a37d1b",
   "metadata": {},
   "outputs": [],
   "source": [
    "heart_disease = pd.read_csv('/home/mohamed/Documents/TP1/heart-disease.csv')"
   ]
  },
  {
   "cell_type": "markdown",
   "id": "1ca624ec-f87c-40b2-a9ac-d94476d3b62d",
   "metadata": {},
   "source": [
    "#### Comme notre variable cible est une catégorie (maladie cardiaque ou non), il s'agit donc d'un problème de classification."
   ]
  },
  {
   "cell_type": "markdown",
   "id": "07d8e95c-8cf0-4a3f-a042-64b75d1d1b8d",
   "metadata": {},
   "source": [
    "#### Créer de X et de y en fractionnant la dataframe :"
   ]
  },
  {
   "cell_type": "code",
   "execution_count": 334,
   "id": "c728e32c-2d8c-44b3-b90c-2e9515f73bc4",
   "metadata": {},
   "outputs": [],
   "source": [
    "X = heart_disease[[col for col in heart_disease.columns if col != 'target']]\n",
    "y = heart_disease['target']"
   ]
  },
  {
   "cell_type": "markdown",
   "id": "3d94974a-d41c-49b3-b888-3c6a41becae2",
   "metadata": {},
   "source": [
    "#### Diviser X et y en ensembles d'entraînement et de test"
   ]
  },
  {
   "cell_type": "code",
   "execution_count": 335,
   "id": "19ceee12-4586-4861-be73-deeaf55b7469",
   "metadata": {},
   "outputs": [],
   "source": [
    "from sklearn.model_selection import train_test_split\n",
    "X_train, X_test, y_train, y_test = train_test_split(X, y, test_size=0.2, random_state=42)"
   ]
  },
  {
   "cell_type": "code",
   "execution_count": 336,
   "id": "c8bd40b8-20bc-4235-b7ef-adc11ad28164",
   "metadata": {},
   "outputs": [
    {
     "name": "stdout",
     "output_type": "stream",
     "text": [
      "Shape of X_train :  (242, 13)\n",
      "Shape of X_test :  (61, 13)\n",
      "Shape of y_train :  (242,)\n",
      "Shape of y_test :  (61,)\n"
     ]
    }
   ],
   "source": [
    "print(\"Shape of X_train : \", X_train.shape)\n",
    "print(\"Shape of X_test : \", X_test.shape)\n",
    "print(\"Shape of y_train : \", y_train.shape)\n",
    "print(\"Shape of y_test : \", y_test.shape)"
   ]
  },
  {
   "cell_type": "markdown",
   "id": "61c09df4-639e-4fa6-8ad4-364c8c2d7b81",
   "metadata": {},
   "source": [
    "#### Après avoir suivi la carte, on a décidé d'utiliser le RandomForestClassifier"
   ]
  },
  {
   "cell_type": "code",
   "execution_count": 337,
   "id": "75e003a0-a43d-4f32-8618-c250e28826be",
   "metadata": {},
   "outputs": [],
   "source": [
    "from sklearn.ensemble import RandomForestClassifier\n",
    "clf = RandomForestClassifier(max_depth=2, random_state=0)"
   ]
  },
  {
   "cell_type": "markdown",
   "id": "82afa31f-7ace-48bd-a1b1-bf0a34b82113",
   "metadata": {},
   "source": [
    "### 3. Ajuster le modèle et faire des prédictions :"
   ]
  },
  {
   "cell_type": "code",
   "execution_count": 338,
   "id": "f08ed13d-a7e0-41b8-8bc0-fdfb50075adc",
   "metadata": {},
   "outputs": [
    {
     "data": {
      "text/plain": [
       "array([1])"
      ]
     },
     "execution_count": 338,
     "metadata": {},
     "output_type": "execute_result"
    }
   ],
   "source": [
    "clf.fit(X_train, y_train)\n",
    "y_preds = clf.predict([X_train.loc[0].values])\n",
    "y_preds"
   ]
  },
  {
   "cell_type": "markdown",
   "id": "20620e2f-cffe-4159-a1e4-8eb2f7171427",
   "metadata": {},
   "source": [
    "### 4. Évaluer les prédictions du modèle :"
   ]
  },
  {
   "cell_type": "markdown",
   "id": "155e693e-b2d4-429b-a60e-c790885d838e",
   "metadata": {},
   "source": [
    "#### D'après la documentation de **sklearn**:\n",
    "    score(X, y[, sample_weight]) : Return the mean accuracy on the given test data and labels."
   ]
  },
  {
   "cell_type": "code",
   "execution_count": 339,
   "id": "be77f542-3a80-4e0c-ae03-7f53b57cc11f",
   "metadata": {},
   "outputs": [
    {
     "data": {
      "text/plain": [
       "0.8677685950413223"
      ]
     },
     "execution_count": 339,
     "metadata": {},
     "output_type": "execute_result"
    }
   ],
   "source": [
    "# Evaluation sur les données d'entraînnement\n",
    "clf.score(X_train, y_train)"
   ]
  },
  {
   "cell_type": "code",
   "execution_count": 340,
   "id": "acdd783e-94a6-42b7-ab0b-fda280f35dff",
   "metadata": {},
   "outputs": [
    {
     "data": {
      "text/plain": [
       "0.8688524590163934"
      ]
     },
     "execution_count": 340,
     "metadata": {},
     "output_type": "execute_result"
    }
   ],
   "source": [
    "# Evaluation sur les données du test\n",
    "clf.score(X_test, y_test)"
   ]
  },
  {
   "cell_type": "markdown",
   "id": "aba9c904-8828-4005-8237-5b0e8b9637ca",
   "metadata": {},
   "source": [
    "#### la méthode score renvoie une valeur d'accuracy qu'on peut juger bonne car elle dépasse 0.5 est est proche de 1.\n",
    "#### la valeur relative aux données d'entraînnement a dépassé légèrement celle des données de test."
   ]
  },
  {
   "cell_type": "markdown",
   "id": "ec25cd56-2c7f-4228-8711-61ce49deaea6",
   "metadata": {},
   "source": [
    "# Expérimenter différents modèles de classification"
   ]
  },
  {
   "cell_type": "markdown",
   "id": "869227a3-c8c2-414f-a95a-ae2d0825f91c",
   "metadata": {},
   "source": [
    "## Importation des modèles"
   ]
  },
  {
   "cell_type": "code",
   "execution_count": 341,
   "id": "1b9fcd3e-d7c3-406e-8790-d2e4f9166f57",
   "metadata": {},
   "outputs": [],
   "source": [
    "from sklearn.svm import LinearSVC\n",
    "from sklearn.neighbors import KNeighborsClassifier\n",
    "from sklearn.svm import SVC\n",
    "from sklearn.linear_model import LogisticRegression"
   ]
  },
  {
   "cell_type": "code",
   "execution_count": 342,
   "id": "68ff0164-e603-48b4-af1b-9b9b3557d497",
   "metadata": {},
   "outputs": [],
   "source": [
    "models = {\"LinearSVC\" : LinearSVC(),\n",
    "         \"KNN\" : KNeighborsClassifier(),\n",
    "         \"SVC\" : SVC(),\n",
    "         \"LogisticRegression\" : LogisticRegression(),\n",
    "         \"RandomForestClassifier\" : RandomForestClassifier()}\n",
    "results = {}"
   ]
  },
  {
   "cell_type": "code",
   "execution_count": 343,
   "id": "3cf45238-d43b-418d-9a20-7011a0fa393d",
   "metadata": {},
   "outputs": [
    {
     "name": "stderr",
     "output_type": "stream",
     "text": [
      "/home/mohamed/anaconda3/lib/python3.8/site-packages/sklearn/svm/_base.py:985: ConvergenceWarning: Liblinear failed to converge, increase the number of iterations.\n",
      "  warnings.warn(\"Liblinear failed to converge, increase \"\n",
      "/home/mohamed/anaconda3/lib/python3.8/site-packages/sklearn/linear_model/_logistic.py:763: ConvergenceWarning: lbfgs failed to converge (status=1):\n",
      "STOP: TOTAL NO. of ITERATIONS REACHED LIMIT.\n",
      "\n",
      "Increase the number of iterations (max_iter) or scale the data as shown in:\n",
      "    https://scikit-learn.org/stable/modules/preprocessing.html\n",
      "Please also refer to the documentation for alternative solver options:\n",
      "    https://scikit-learn.org/stable/modules/linear_model.html#logistic-regression\n",
      "  n_iter_i = _check_optimize_result(\n"
     ]
    },
    {
     "data": {
      "text/plain": [
       "{'LinearSVC': 0.8688524590163934,\n",
       " 'KNN': 0.6885245901639344,\n",
       " 'SVC': 0.7049180327868853,\n",
       " 'LogisticRegression': 0.8852459016393442,\n",
       " 'RandomForestClassifier': 0.8360655737704918}"
      ]
     },
     "execution_count": 343,
     "metadata": {},
     "output_type": "execute_result"
    }
   ],
   "source": [
    "for model_name, model in models.items():\n",
    "    model.fit(X_train, y_train)\n",
    "    results[model_name] = model.score(X_test, y_test)\n",
    "results"
   ]
  },
  {
   "cell_type": "markdown",
   "id": "75024259-1e01-4949-b451-f42f3fc1c9a7",
   "metadata": {},
   "source": [
    "#### - Le modèle qui a fonctionné le mieux est **LogisticRegression**\n",
    "#### - L résultat change après chaque nouvelle exécution de la cellule car les modèles cherchent les modèles aléatoirement dans les données.\n",
    "#### - En mettant numpy.random.seed à 42 par exemple, les valeurs ne seront plus changées."
   ]
  },
  {
   "cell_type": "code",
   "execution_count": 344,
   "id": "89b2c763-c1ad-47d5-993f-c903ee76a024",
   "metadata": {},
   "outputs": [
    {
     "name": "stderr",
     "output_type": "stream",
     "text": [
      "/home/mohamed/anaconda3/lib/python3.8/site-packages/sklearn/svm/_base.py:985: ConvergenceWarning: Liblinear failed to converge, increase the number of iterations.\n",
      "  warnings.warn(\"Liblinear failed to converge, increase \"\n",
      "/home/mohamed/anaconda3/lib/python3.8/site-packages/sklearn/linear_model/_logistic.py:763: ConvergenceWarning: lbfgs failed to converge (status=1):\n",
      "STOP: TOTAL NO. of ITERATIONS REACHED LIMIT.\n",
      "\n",
      "Increase the number of iterations (max_iter) or scale the data as shown in:\n",
      "    https://scikit-learn.org/stable/modules/preprocessing.html\n",
      "Please also refer to the documentation for alternative solver options:\n",
      "    https://scikit-learn.org/stable/modules/linear_model.html#logistic-regression\n",
      "  n_iter_i = _check_optimize_result(\n"
     ]
    },
    {
     "data": {
      "text/plain": [
       "{'LinearSVC': 0.8688524590163934,\n",
       " 'KNN': 0.6885245901639344,\n",
       " 'SVC': 0.7049180327868853,\n",
       " 'LogisticRegression': 0.8852459016393442,\n",
       " 'RandomForestClassifier': 0.8360655737704918}"
      ]
     },
     "execution_count": 344,
     "metadata": {},
     "output_type": "execute_result"
    }
   ],
   "source": [
    "np.random.seed(42)\n",
    "for model_name, model in models.items():\n",
    "    model.fit(X_train, y_train)\n",
    "    results[model_name] = model.score(X_test, y_test)\n",
    "results"
   ]
  },
  {
   "cell_type": "code",
   "execution_count": 345,
   "id": "35b9b0ec-b832-414f-b816-7967e48a946c",
   "metadata": {},
   "outputs": [
    {
     "data": {
      "text/html": [
       "<div>\n",
       "<style scoped>\n",
       "    .dataframe tbody tr th:only-of-type {\n",
       "        vertical-align: middle;\n",
       "    }\n",
       "\n",
       "    .dataframe tbody tr th {\n",
       "        vertical-align: top;\n",
       "    }\n",
       "\n",
       "    .dataframe thead th {\n",
       "        text-align: right;\n",
       "    }\n",
       "</style>\n",
       "<table border=\"1\" class=\"dataframe\">\n",
       "  <thead>\n",
       "    <tr style=\"text-align: right;\">\n",
       "      <th></th>\n",
       "      <th>accuracy</th>\n",
       "    </tr>\n",
       "  </thead>\n",
       "  <tbody>\n",
       "    <tr>\n",
       "      <th>LinearSVC</th>\n",
       "      <td>0.868852</td>\n",
       "    </tr>\n",
       "    <tr>\n",
       "      <th>KNN</th>\n",
       "      <td>0.688525</td>\n",
       "    </tr>\n",
       "    <tr>\n",
       "      <th>SVC</th>\n",
       "      <td>0.704918</td>\n",
       "    </tr>\n",
       "    <tr>\n",
       "      <th>LogisticRegression</th>\n",
       "      <td>0.885246</td>\n",
       "    </tr>\n",
       "    <tr>\n",
       "      <th>RandomForestClassifier</th>\n",
       "      <td>0.836066</td>\n",
       "    </tr>\n",
       "  </tbody>\n",
       "</table>\n",
       "</div>"
      ],
      "text/plain": [
       "                        accuracy\n",
       "LinearSVC               0.868852\n",
       "KNN                     0.688525\n",
       "SVC                     0.704918\n",
       "LogisticRegression      0.885246\n",
       "RandomForestClassifier  0.836066"
      ]
     },
     "execution_count": 345,
     "metadata": {},
     "output_type": "execute_result"
    }
   ],
   "source": [
    "result_df = pd.DataFrame(results.values(), index = results.keys(), columns = ['accuracy'])\n",
    "result_df"
   ]
  },
  {
   "cell_type": "code",
   "execution_count": 346,
   "id": "a8f68e6a-7726-4afb-be77-4d649a2a7c5d",
   "metadata": {},
   "outputs": [
    {
     "data": {
      "text/plain": [
       "<AxesSubplot:>"
      ]
     },
     "execution_count": 346,
     "metadata": {},
     "output_type": "execute_result"
    },
    {
     "data": {
      "image/png": "[encoded data removed]",
      "text/plain": [
       "<Figure size 432x288 with 1 Axes>"
      ]
     },
     "metadata": {
      "needs_background": "light"
     },
     "output_type": "display_data"
    }
   ],
   "source": [
    "result_df.plot.bar()"
   ]
  },
  {
   "cell_type": "markdown",
   "id": "6fcb9a9f-a709-4fb3-874d-da78cafeafdc",
   "metadata": {},
   "source": [
    "# Hyperparameter Tuning"
   ]
  },
  {
   "cell_type": "markdown",
   "id": "91ee0f62-f11d-41e0-9743-7c6be15061a8",
   "metadata": {},
   "source": [
    "## LogisticRegression hyperparameters"
   ]
  },
  {
   "cell_type": "code",
   "execution_count": 347,
   "id": "69aed39c-7945-4c01-8fcf-00e43ef8b2f3",
   "metadata": {},
   "outputs": [],
   "source": [
    "log_reg_grid = {\"C\" : np.logspace(-4, 4, 20),\n",
    "               \"solver\" : [\"liblinear\"]}"
   ]
  },
  {
   "cell_type": "markdown",
   "id": "96c57d44-4962-41ec-ae24-efca1c06763f",
   "metadata": {},
   "source": [
    "#### Puisque nous avons un ensemble d'hyperparamètres, nous pouvons importer RandomizedSearchCV, lui transmettre notre dictionnaire d'hyperparamètres et le laisser rechercher la meilleure combinaison."
   ]
  },
  {
   "cell_type": "code",
   "execution_count": 348,
   "id": "979bba98-7e1f-4e69-871c-a32ade2e3f8e",
   "metadata": {},
   "outputs": [],
   "source": [
    "np.random.seed(42)\n",
    "from sklearn.model_selection import RandomizedSearchCV\n",
    "rs_log_reg = RandomizedSearchCV(estimator = LogisticRegression(),\n",
    "                               param_distributions = log_reg_grid,\n",
    "                               cv = 5,\n",
    "                               n_iter = 5)\n",
    "srch = rs_log_reg.fit(X_train, y_train)"
   ]
  },
  {
   "cell_type": "markdown",
   "id": "eb0a167c-4807-4baf-8a8b-b55765425e3b",
   "metadata": {},
   "source": [
    "#### Une fois que RandomizedSearchCV a terminé, nous pouvons trouver les meilleurs hyperparmètres trouvés en utilisant les attributs best_params_."
   ]
  },
  {
   "cell_type": "code",
   "execution_count": 349,
   "id": "2043b90f-6c10-4bba-8d36-d362dcd5252a",
   "metadata": {},
   "outputs": [
    {
     "data": {
      "text/plain": [
       "{'solver': 'liblinear', 'C': 0.23357214690901212}"
      ]
     },
     "execution_count": 349,
     "metadata": {},
     "output_type": "execute_result"
    }
   ],
   "source": [
    "srch.best_params_"
   ]
  },
  {
   "cell_type": "code",
   "execution_count": 350,
   "id": "91f8a087-76e0-430f-a7cc-78c05704d21d",
   "metadata": {},
   "outputs": [
    {
     "data": {
      "text/plain": [
       "0.8852459016393442"
      ]
     },
     "execution_count": 350,
     "metadata": {},
     "output_type": "execute_result"
    }
   ],
   "source": [
    "srch.score(X_test, y_test)"
   ]
  },
  {
   "cell_type": "markdown",
   "id": "bddf65b1-f268-480f-8153-e4ea259577c5",
   "metadata": {},
   "source": [
    "#### - Après le réglage des hyperparamètres, le score du modèle est bien amélioré"
   ]
  },
  {
   "cell_type": "markdown",
   "id": "09ec1b94-917f-469a-94a5-665feb06b21e",
   "metadata": {},
   "source": [
    "# Évaluation du modèle de classificateur"
   ]
  },
  {
   "cell_type": "markdown",
   "id": "78e7fe9a-d9aa-4b5a-bcdb-04bd5d977f21",
   "metadata": {},
   "source": [
    "#### Nous allons instancier une nouvelle instance de notre modèle en utilisant les meilleurs hyperparamètres trouvés par RandomizedSearchCV."
   ]
  },
  {
   "cell_type": "code",
   "execution_count": 351,
   "id": "93dc9604-09d3-4920-9c47-353e8b9bdab4",
   "metadata": {},
   "outputs": [],
   "source": [
    "clf = LogisticRegression(solver='liblinear', C = 0.23357214690901212)"
   ]
  },
  {
   "cell_type": "code",
   "execution_count": 352,
   "id": "56bc1193-4189-47b7-a5ba-c768f74444b7",
   "metadata": {},
   "outputs": [
    {
     "data": {
      "text/plain": [
       "LogisticRegression(C=0.23357214690901212, solver='liblinear')"
      ]
     },
     "execution_count": 352,
     "metadata": {},
     "output_type": "execute_result"
    }
   ],
   "source": [
    "clf.fit(X_train, y_train)"
   ]
  },
  {
   "cell_type": "markdown",
   "id": "4ad0e36a-eb5d-4a0b-b76e-9cf5504a71c7",
   "metadata": {},
   "source": [
    "#### Il s'agit maintenant d'importer les méthodes Scikit-Learn relatives pour chacune des métriques d'évaluation de classification que nous recherchons."
   ]
  },
  {
   "cell_type": "code",
   "execution_count": 353,
   "id": "46099453-e71f-446f-92bf-ee401b67a37f",
   "metadata": {},
   "outputs": [],
   "source": [
    "from sklearn.metrics import confusion_matrix, classification_report\n",
    "from sklearn.metrics import precision_score, recall_score, f1_score\n",
    "from sklearn.metrics import plot_roc_curve"
   ]
  },
  {
   "cell_type": "markdown",
   "id": "6f83aaac-757f-4928-b923-0520a4e51cc4",
   "metadata": {},
   "source": [
    "#### Faisons quelques prédictions sur les données de test en utilisant notre dernier modèle et sauvegardons-les dans y_preds."
   ]
  },
  {
   "cell_type": "code",
   "execution_count": 354,
   "id": "eacb1df8-2424-4f04-b592-bebb7cb50b3e",
   "metadata": {},
   "outputs": [],
   "source": [
    "y_pred = clf.predict([X_test.loc[i].values for i in X_test.index.values[:20]])"
   ]
  },
  {
   "cell_type": "markdown",
   "id": "3cab5272-4951-4489-a08e-718af3567d59",
   "metadata": {},
   "source": [
    "#### Il est temps d'utiliser les prédictions que notre modèle a trouvé pour l'évaluer"
   ]
  },
  {
   "cell_type": "code",
   "execution_count": 355,
   "id": "b85cea76-2072-42d5-ad11-9e9660e82a45",
   "metadata": {},
   "outputs": [
    {
     "data": {
      "text/plain": [
       "array([[ 8,  1],\n",
       "       [ 1, 10]])"
      ]
     },
     "execution_count": 355,
     "metadata": {},
     "output_type": "execute_result"
    }
   ],
   "source": [
    "y_true = [y_test.loc[i] for i in y_test.index.values[:20]]\n",
    "confusion_matrix(y_true, y_pred)"
   ]
  },
  {
   "cell_type": "markdown",
   "id": "55222adc-54ea-4a44-be9a-d4f82c6ecda7",
   "metadata": {},
   "source": [
    "#### Que diriez-vous d'un rapport de classification ?"
   ]
  },
  {
   "cell_type": "code",
   "execution_count": 356,
   "id": "38e5f788-2fce-4abd-9b6f-e5ff3d19fc84",
   "metadata": {},
   "outputs": [
    {
     "data": {
      "text/plain": [
       "'              precision    recall  f1-score   support\\n\\n           0       0.89      0.89      0.89         9\\n           1       0.91      0.91      0.91        11\\n\\n    accuracy                           0.90        20\\n   macro avg       0.90      0.90      0.90        20\\nweighted avg       0.90      0.90      0.90        20\\n'"
      ]
     },
     "execution_count": 356,
     "metadata": {},
     "output_type": "execute_result"
    }
   ],
   "source": [
    "classification_report(y_true, y_pred)"
   ]
  },
  {
   "cell_type": "markdown",
   "id": "957409d5-9e2b-436a-ab31-a8e8d5fd6160",
   "metadata": {},
   "source": [
    "#### Le rapport de classification nous donne une plage de valeurs pour la précision, le rappel et le score F1, le temps de trouver ces métriques à l'aide des fonctions Scikit-Learn."
   ]
  },
  {
   "cell_type": "code",
   "execution_count": 357,
   "id": "74319376-6739-42cf-9413-1c35dfab7339",
   "metadata": {},
   "outputs": [
    {
     "data": {
      "text/plain": [
       "0.9090909090909091"
      ]
     },
     "execution_count": 357,
     "metadata": {},
     "output_type": "execute_result"
    }
   ],
   "source": [
    "#precision score\n",
    "precision_score(y_true, y_pred)"
   ]
  },
  {
   "cell_type": "code",
   "execution_count": 358,
   "id": "aab37b2a-3d2e-4091-9dda-b5d706f1f520",
   "metadata": {},
   "outputs": [
    {
     "data": {
      "text/plain": [
       "0.9090909090909091"
      ]
     },
     "execution_count": 358,
     "metadata": {},
     "output_type": "execute_result"
    }
   ],
   "source": [
    "#recall score\n",
    "recall_score(y_true, y_pred)"
   ]
  },
  {
   "cell_type": "code",
   "execution_count": 359,
   "id": "77bf80ed-0703-45d1-890d-42c2d4fdeab6",
   "metadata": {},
   "outputs": [
    {
     "data": {
      "text/plain": [
       "0.9090909090909091"
      ]
     },
     "execution_count": 359,
     "metadata": {},
     "output_type": "execute_result"
    }
   ],
   "source": [
    "f1_score(y_true, y_pred)"
   ]
  },
  {
   "cell_type": "markdown",
   "id": "ac782af5-c12a-4163-9eea-8c71482d8f6e",
   "metadata": {},
   "source": [
    "#### Scikit-Learn fournit une fonction pratique pour créer les deux, appelée plot_roc_curve ()."
   ]
  },
  {
   "cell_type": "code",
   "execution_count": 360,
   "id": "2185f4bf-d9eb-4cbb-b313-b4c1bdc8f119",
   "metadata": {},
   "outputs": [
    {
     "data": {
      "text/plain": [
       "<sklearn.metrics._plot.roc_curve.RocCurveDisplay at 0x7fdcab803f10>"
      ]
     },
     "execution_count": 360,
     "metadata": {},
     "output_type": "execute_result"
    },
    {
     "data": {
      "image/png": "[encoded data removed]",
      "text/plain": [
       "<Figure size 576x396 with 1 Axes>"
      ]
     },
     "metadata": {},
     "output_type": "display_data"
    }
   ],
   "source": [
    "plt.style.use('seaborn')\n",
    "plot_roc_curve(clf, X_test, y_test)"
   ]
  },
  {
   "cell_type": "markdown",
   "id": "784744f1-a1c2-4d98-8b9e-672bd34109eb",
   "metadata": {},
   "source": [
    "#### Nous pouvons calculer diverses métriques d'évaluation en utilisant la validation croisée en utilisant la fonction cross_val_score () de Scikit-Learn avec le paramètre de score."
   ]
  },
  {
   "cell_type": "code",
   "execution_count": 361,
   "id": "54d164cf-43b9-4d5c-aca8-17de23dea4e5",
   "metadata": {},
   "outputs": [],
   "source": [
    "from sklearn.model_selection import cross_val_score"
   ]
  },
  {
   "cell_type": "code",
   "execution_count": 362,
   "id": "23afb692-fe79-4a45-845d-6ce78587f559",
   "metadata": {},
   "outputs": [
    {
     "data": {
      "text/plain": [
       "array([0.81967213, 0.90163934, 0.8852459 , 0.88333333, 0.75      ])"
      ]
     },
     "execution_count": 362,
     "metadata": {},
     "output_type": "execute_result"
    }
   ],
   "source": [
    "t = cross_val_score(clf, X, y, scoring='accuracy', cv=5)\n",
    "t"
   ]
  },
  {
   "cell_type": "code",
   "execution_count": 363,
   "id": "4875063a-0c96-4ae6-9a7b-40c02233cebe",
   "metadata": {},
   "outputs": [
    {
     "data": {
      "text/plain": [
       "0.8479781420765027"
      ]
     },
     "execution_count": 363,
     "metadata": {},
     "output_type": "execute_result"
    }
   ],
   "source": [
    "t.mean()"
   ]
  },
  {
   "cell_type": "markdown",
   "id": "c4543e19-23e2-4dec-851a-354b519ca272",
   "metadata": {},
   "source": [
    "#### Il est maintenant temps de trouver la même chose pour la précision, le rappel et le score F1"
   ]
  },
  {
   "cell_type": "code",
   "execution_count": 364,
   "id": "fe3b4fc1-0785-4cf4-b8e8-59faf357ad82",
   "metadata": {},
   "outputs": [
    {
     "data": {
      "text/plain": [
       "0.8215873015873015"
      ]
     },
     "execution_count": 364,
     "metadata": {},
     "output_type": "execute_result"
    }
   ],
   "source": [
    "np.mean(cross_val_score(clf, X, y, scoring='precision', cv=5))"
   ]
  },
  {
   "cell_type": "code",
   "execution_count": 365,
   "id": "3c518a0f-714c-40da-bac0-38282f860f9b",
   "metadata": {},
   "outputs": [
    {
     "data": {
      "text/plain": [
       "0.8705403543192143"
      ]
     },
     "execution_count": 365,
     "metadata": {},
     "output_type": "execute_result"
    }
   ],
   "source": [
    "np.mean(cross_val_score(clf, X, y, scoring='f1', cv=5))"
   ]
  },
  {
   "cell_type": "code",
   "execution_count": 366,
   "id": "dfe6ee7d-5720-4652-9d81-59fb6ea51288",
   "metadata": {},
   "outputs": [
    {
     "data": {
      "text/plain": [
       "0.9272727272727274"
      ]
     },
     "execution_count": 366,
     "metadata": {},
     "output_type": "execute_result"
    }
   ],
   "source": [
    "np.mean(cross_val_score(clf, X, y, scoring='recall', cv=5))"
   ]
  },
  {
   "cell_type": "markdown",
   "id": "52f3a5b5-4140-442a-9499-f4df910ca584",
   "metadata": {},
   "source": [
    "### Astuce: Exporting and importing a trained model"
   ]
  },
  {
   "cell_type": "code",
   "execution_count": 367,
   "id": "8c3e1a92-fdbb-46a9-baec-acdf29b7c8ee",
   "metadata": {},
   "outputs": [],
   "source": [
    "from joblib import dump, load"
   ]
  },
  {
   "cell_type": "code",
   "execution_count": 368,
   "id": "4f018bb5-e103-42dd-8064-4b828bb5e38b",
   "metadata": {},
   "outputs": [
    {
     "data": {
      "text/plain": [
       "['modelfile']"
      ]
     },
     "execution_count": 368,
     "metadata": {},
     "output_type": "execute_result"
    }
   ],
   "source": [
    "dump(clf, \"modelfile\")"
   ]
  },
  {
   "cell_type": "code",
   "execution_count": 369,
   "id": "d30fb9d0-435e-4576-9bac-e9c0ded681ad",
   "metadata": {},
   "outputs": [],
   "source": [
    "clf2 = load(\"modelfile\")"
   ]
  },
  {
   "cell_type": "code",
   "execution_count": 370,
   "id": "82136104-dcc6-4241-b3bd-b8329227a4e7",
   "metadata": {},
   "outputs": [
    {
     "data": {
      "text/plain": [
       "0.8852459016393442"
      ]
     },
     "execution_count": 370,
     "metadata": {},
     "output_type": "execute_result"
    }
   ],
   "source": [
    "clf2.score(X_test, y_test)"
   ]
  },
  {
   "cell_type": "markdown",
   "id": "957ccb0d-38e3-4ea4-9a42-ae0b21a77307",
   "metadata": {},
   "source": [
    "# Pratique de la régression en Scikit-Learn"
   ]
  },
  {
   "cell_type": "markdown",
   "id": "1e4cd390-92ea-48bc-aac1-7f9a87cf86e2",
   "metadata": {},
   "source": [
    "#### Pour commencer, nous allons importer les données dans un pandas DataFrame"
   ]
  },
  {
   "cell_type": "code",
   "execution_count": 425,
   "id": "3b788aed-8147-4741-ac7f-5b553c776e8f",
   "metadata": {},
   "outputs": [
    {
     "data": {
      "text/html": [
       "<div>\n",
       "<style scoped>\n",
       "    .dataframe tbody tr th:only-of-type {\n",
       "        vertical-align: middle;\n",
       "    }\n",
       "\n",
       "    .dataframe tbody tr th {\n",
       "        vertical-align: top;\n",
       "    }\n",
       "\n",
       "    .dataframe thead th {\n",
       "        text-align: right;\n",
       "    }\n",
       "</style>\n",
       "<table border=\"1\" class=\"dataframe\">\n",
       "  <thead>\n",
       "    <tr style=\"text-align: right;\">\n",
       "      <th></th>\n",
       "      <th>Make</th>\n",
       "      <th>Colour</th>\n",
       "      <th>Odometer</th>\n",
       "      <th>Doors</th>\n",
       "      <th>Price</th>\n",
       "    </tr>\n",
       "  </thead>\n",
       "  <tbody>\n",
       "    <tr>\n",
       "      <th>0</th>\n",
       "      <td>Toyota</td>\n",
       "      <td>White</td>\n",
       "      <td>150043.0</td>\n",
       "      <td>4.0</td>\n",
       "      <td>$4,000</td>\n",
       "    </tr>\n",
       "    <tr>\n",
       "      <th>1</th>\n",
       "      <td>Honda</td>\n",
       "      <td>Red</td>\n",
       "      <td>87899.0</td>\n",
       "      <td>4.0</td>\n",
       "      <td>$5,000</td>\n",
       "    </tr>\n",
       "    <tr>\n",
       "      <th>2</th>\n",
       "      <td>Toyota</td>\n",
       "      <td>Blue</td>\n",
       "      <td>NaN</td>\n",
       "      <td>3.0</td>\n",
       "      <td>$7,000</td>\n",
       "    </tr>\n",
       "    <tr>\n",
       "      <th>3</th>\n",
       "      <td>BMW</td>\n",
       "      <td>Black</td>\n",
       "      <td>11179.0</td>\n",
       "      <td>5.0</td>\n",
       "      <td>$22,000</td>\n",
       "    </tr>\n",
       "    <tr>\n",
       "      <th>4</th>\n",
       "      <td>Nissan</td>\n",
       "      <td>White</td>\n",
       "      <td>213095.0</td>\n",
       "      <td>4.0</td>\n",
       "      <td>$3,500</td>\n",
       "    </tr>\n",
       "  </tbody>\n",
       "</table>\n",
       "</div>"
      ],
      "text/plain": [
       "     Make Colour  Odometer  Doors    Price\n",
       "0  Toyota  White  150043.0    4.0   $4,000\n",
       "1   Honda    Red   87899.0    4.0   $5,000\n",
       "2  Toyota   Blue       NaN    3.0   $7,000\n",
       "3     BMW  Black   11179.0    5.0  $22,000\n",
       "4  Nissan  White  213095.0    4.0   $3,500"
      ]
     },
     "execution_count": 425,
     "metadata": {},
     "output_type": "execute_result"
    }
   ],
   "source": [
    "car_sales = pd.read_csv(\"/home/mohamed/Documents/TP1/car-sales-missing-data.csv\")\n",
    "car_sales.head()"
   ]
  },
  {
   "cell_type": "code",
   "execution_count": 426,
   "id": "38fe3cea-f64f-4ff7-a8f1-b457b9de3393",
   "metadata": {},
   "outputs": [
    {
     "name": "stdout",
     "output_type": "stream",
     "text": [
      "<class 'pandas.core.frame.DataFrame'>\n",
      "RangeIndex: 10 entries, 0 to 9\n",
      "Data columns (total 5 columns):\n",
      " #   Column    Non-Null Count  Dtype  \n",
      "---  ------    --------------  -----  \n",
      " 0   Make      9 non-null      object \n",
      " 1   Colour    9 non-null      object \n",
      " 2   Odometer  6 non-null      float64\n",
      " 3   Doors     9 non-null      float64\n",
      " 4   Price     8 non-null      object \n",
      "dtypes: float64(2), object(3)\n",
      "memory usage: 528.0+ bytes\n"
     ]
    }
   ],
   "source": [
    "car_sales.info()"
   ]
  },
  {
   "cell_type": "code",
   "execution_count": 427,
   "id": "71709de4-a302-4204-9470-bdd92981e66b",
   "metadata": {},
   "outputs": [
    {
     "name": "stdout",
     "output_type": "stream",
     "text": [
      "Make  :  1\n",
      "Colour  :  1\n",
      "Odometer  :  4\n",
      "Doors  :  1\n",
      "Price  :  2\n"
     ]
    }
   ],
   "source": [
    "for c in car_sales.columns:\n",
    "    print(c, \" : \", len(car_sales[car_sales[c].isna()]))"
   ]
  },
  {
   "cell_type": "code",
   "execution_count": 428,
   "id": "f63ab881-35fc-4d84-a3e0-46d44f5f56f1",
   "metadata": {},
   "outputs": [
    {
     "data": {
      "text/plain": [
       "Make         object\n",
       "Colour       object\n",
       "Odometer    float64\n",
       "Doors       float64\n",
       "Price        object\n",
       "dtype: object"
      ]
     },
     "execution_count": 428,
     "metadata": {},
     "output_type": "execute_result"
    }
   ],
   "source": [
    "car_sales.dtypes"
   ]
  },
  {
   "cell_type": "markdown",
   "id": "6302d6eb-e53c-4e78-b665-a440aebb6a05",
   "metadata": {},
   "source": [
    "#### Connaissant ces informations, que se passerait-il si nous essayions de modéliser nos données telles quelles ?"
   ]
  },
  {
   "cell_type": "code",
   "execution_count": 429,
   "id": "2c68ccde-0b97-4d03-9baa-217f24576c5a",
   "metadata": {},
   "outputs": [
    {
     "name": "stdout",
     "output_type": "stream",
     "text": [
      "Erreur rencontrée\n"
     ]
    }
   ],
   "source": [
    "from sklearn.ensemble import RandomForestRegressor\n",
    "car_sales_X, car_sales_y = car_sales.drop(\"Price\", axis = 1), car_sales.Price\n",
    "rf_Regressor = RandomForestRegressor()\n",
    "try:\n",
    "    rf_Regressor.fit(car_sales_X, car_sales_y)\n",
    "except:\n",
    "    print('Erreur rencontrée')"
   ]
  },
  {
   "cell_type": "markdown",
   "id": "14e5e5d6-8fae-456f-8318-1526d6e0018d",
   "metadata": {},
   "source": [
    "#### On doit avoir seulement des paramètres qui peuvent être transformés en valeurs numériques"
   ]
  },
  {
   "cell_type": "code",
   "execution_count": 430,
   "id": "cf4ab0fd-8333-421a-91cc-420d69459a42",
   "metadata": {},
   "outputs": [
    {
     "data": {
      "text/html": [
       "<div>\n",
       "<style scoped>\n",
       "    .dataframe tbody tr th:only-of-type {\n",
       "        vertical-align: middle;\n",
       "    }\n",
       "\n",
       "    .dataframe tbody tr th {\n",
       "        vertical-align: top;\n",
       "    }\n",
       "\n",
       "    .dataframe thead th {\n",
       "        text-align: right;\n",
       "    }\n",
       "</style>\n",
       "<table border=\"1\" class=\"dataframe\">\n",
       "  <thead>\n",
       "    <tr style=\"text-align: right;\">\n",
       "      <th></th>\n",
       "      <th>Odometer</th>\n",
       "      <th>Doors</th>\n",
       "      <th>Price</th>\n",
       "    </tr>\n",
       "  </thead>\n",
       "  <tbody>\n",
       "    <tr>\n",
       "      <th>0</th>\n",
       "      <td>150043.0</td>\n",
       "      <td>4.0</td>\n",
       "      <td>$4,000</td>\n",
       "    </tr>\n",
       "    <tr>\n",
       "      <th>1</th>\n",
       "      <td>87899.0</td>\n",
       "      <td>4.0</td>\n",
       "      <td>$5,000</td>\n",
       "    </tr>\n",
       "    <tr>\n",
       "      <th>2</th>\n",
       "      <td>NaN</td>\n",
       "      <td>3.0</td>\n",
       "      <td>$7,000</td>\n",
       "    </tr>\n",
       "    <tr>\n",
       "      <th>3</th>\n",
       "      <td>11179.0</td>\n",
       "      <td>5.0</td>\n",
       "      <td>$22,000</td>\n",
       "    </tr>\n",
       "    <tr>\n",
       "      <th>4</th>\n",
       "      <td>213095.0</td>\n",
       "      <td>4.0</td>\n",
       "      <td>$3,500</td>\n",
       "    </tr>\n",
       "    <tr>\n",
       "      <th>5</th>\n",
       "      <td>NaN</td>\n",
       "      <td>4.0</td>\n",
       "      <td>$4,500</td>\n",
       "    </tr>\n",
       "    <tr>\n",
       "      <th>6</th>\n",
       "      <td>NaN</td>\n",
       "      <td>4.0</td>\n",
       "      <td>$7,500</td>\n",
       "    </tr>\n",
       "    <tr>\n",
       "      <th>7</th>\n",
       "      <td>NaN</td>\n",
       "      <td>4.0</td>\n",
       "      <td>NaN</td>\n",
       "    </tr>\n",
       "    <tr>\n",
       "      <th>8</th>\n",
       "      <td>60000.0</td>\n",
       "      <td>NaN</td>\n",
       "      <td>NaN</td>\n",
       "    </tr>\n",
       "    <tr>\n",
       "      <th>9</th>\n",
       "      <td>31600.0</td>\n",
       "      <td>4.0</td>\n",
       "      <td>$9,700</td>\n",
       "    </tr>\n",
       "  </tbody>\n",
       "</table>\n",
       "</div>"
      ],
      "text/plain": [
       "   Odometer  Doors    Price\n",
       "0  150043.0    4.0   $4,000\n",
       "1   87899.0    4.0   $5,000\n",
       "2       NaN    3.0   $7,000\n",
       "3   11179.0    5.0  $22,000\n",
       "4  213095.0    4.0   $3,500\n",
       "5       NaN    4.0   $4,500\n",
       "6       NaN    4.0   $7,500\n",
       "7       NaN    4.0      NaN\n",
       "8   60000.0    NaN      NaN\n",
       "9   31600.0    4.0   $9,700"
      ]
     },
     "execution_count": 430,
     "metadata": {},
     "output_type": "execute_result"
    }
   ],
   "source": [
    "car_sales2 = car_sales.drop([\"Make\", \"Colour\"], axis=1)\n",
    "car_sales2"
   ]
  },
  {
   "cell_type": "markdown",
   "id": "91d55f9f-c8ae-44fb-9acc-d3d090357a8d",
   "metadata": {},
   "source": [
    "#### On élimine les valeurs nulles"
   ]
  },
  {
   "cell_type": "code",
   "execution_count": 431,
   "id": "ebf2fbe5-a1d2-4564-a382-81f8242ca321",
   "metadata": {},
   "outputs": [
    {
     "data": {
      "text/html": [
       "<div>\n",
       "<style scoped>\n",
       "    .dataframe tbody tr th:only-of-type {\n",
       "        vertical-align: middle;\n",
       "    }\n",
       "\n",
       "    .dataframe tbody tr th {\n",
       "        vertical-align: top;\n",
       "    }\n",
       "\n",
       "    .dataframe thead th {\n",
       "        text-align: right;\n",
       "    }\n",
       "</style>\n",
       "<table border=\"1\" class=\"dataframe\">\n",
       "  <thead>\n",
       "    <tr style=\"text-align: right;\">\n",
       "      <th></th>\n",
       "      <th>Odometer</th>\n",
       "      <th>Doors</th>\n",
       "      <th>Price</th>\n",
       "    </tr>\n",
       "  </thead>\n",
       "  <tbody>\n",
       "    <tr>\n",
       "      <th>0</th>\n",
       "      <td>150043.0</td>\n",
       "      <td>4.0</td>\n",
       "      <td>$4,000</td>\n",
       "    </tr>\n",
       "    <tr>\n",
       "      <th>1</th>\n",
       "      <td>87899.0</td>\n",
       "      <td>4.0</td>\n",
       "      <td>$5,000</td>\n",
       "    </tr>\n",
       "    <tr>\n",
       "      <th>3</th>\n",
       "      <td>11179.0</td>\n",
       "      <td>5.0</td>\n",
       "      <td>$22,000</td>\n",
       "    </tr>\n",
       "    <tr>\n",
       "      <th>4</th>\n",
       "      <td>213095.0</td>\n",
       "      <td>4.0</td>\n",
       "      <td>$3,500</td>\n",
       "    </tr>\n",
       "    <tr>\n",
       "      <th>9</th>\n",
       "      <td>31600.0</td>\n",
       "      <td>4.0</td>\n",
       "      <td>$9,700</td>\n",
       "    </tr>\n",
       "  </tbody>\n",
       "</table>\n",
       "</div>"
      ],
      "text/plain": [
       "   Odometer  Doors    Price\n",
       "0  150043.0    4.0   $4,000\n",
       "1   87899.0    4.0   $5,000\n",
       "3   11179.0    5.0  $22,000\n",
       "4  213095.0    4.0   $3,500\n",
       "9   31600.0    4.0   $9,700"
      ]
     },
     "execution_count": 431,
     "metadata": {},
     "output_type": "execute_result"
    }
   ],
   "source": [
    "car_sales2 = car_sales2.dropna()\n",
    "car_sales2"
   ]
  },
  {
   "cell_type": "markdown",
   "id": "9da9750d-cfe8-4ad4-88d6-23b437b4b863",
   "metadata": {},
   "source": [
    "#### On transforme le champ Price en valeurs numériques:"
   ]
  },
  {
   "cell_type": "code",
   "execution_count": 432,
   "id": "e269b744-365b-4e48-b0f7-eb4289798eae",
   "metadata": {},
   "outputs": [
    {
     "data": {
      "text/plain": [
       "array([ 4000,  5000, 22000,  3500,  9700])"
      ]
     },
     "execution_count": 432,
     "metadata": {},
     "output_type": "execute_result"
    }
   ],
   "source": [
    "def conv(s):\n",
    "    s = s[1:]\n",
    "    s = s.split(',')\n",
    "    return int(s[0])*1000 + int(s[1])\n",
    "car_sales_y = np.array([conv(p) for p in car_sales2['Price'].values])\n",
    "car_sales_y"
   ]
  },
  {
   "cell_type": "markdown",
   "id": "17568937-97f6-41d9-8d42-96196d07f7ec",
   "metadata": {},
   "source": [
    "#### On reconstruit le modèle:"
   ]
  },
  {
   "cell_type": "code",
   "execution_count": 433,
   "id": "87cd8425-adc6-4432-b427-504450b641e5",
   "metadata": {},
   "outputs": [
    {
     "data": {
      "text/plain": [
       "RandomForestRegressor(max_depth=2, random_state=0)"
      ]
     },
     "execution_count": 433,
     "metadata": {},
     "output_type": "execute_result"
    }
   ],
   "source": [
    "car_sales_X = car_sales2.drop(\"Price\", axis=1)\n",
    "regr.fit(car_sales_X, car_sales_y)"
   ]
  },
  {
   "cell_type": "markdown",
   "id": "99068333-b2f5-40e7-9dd0-e90c83feea0f",
   "metadata": {},
   "source": [
    "#### On génère une prédection:"
   ]
  },
  {
   "cell_type": "code",
   "execution_count": 434,
   "id": "6f87017a-f623-4c6b-9970-d32e52c9e571",
   "metadata": {},
   "outputs": [
    {
     "data": {
      "text/plain": [
       "array([6167.83333333])"
      ]
     },
     "execution_count": 434,
     "metadata": {},
     "output_type": "execute_result"
    }
   ],
   "source": [
    "regr.predict([[75226, 4]])"
   ]
  },
  {
   "cell_type": "markdown",
   "id": "2ab2551d-bf12-4197-b7f0-c53f1f83f3ea",
   "metadata": {},
   "source": [
    "# Construire un pipeline"
   ]
  },
  {
   "cell_type": "code",
   "execution_count": 435,
   "id": "ae59b53a-4eae-476e-9551-5e875b510a0f",
   "metadata": {},
   "outputs": [],
   "source": [
    "from sklearn.pipeline import Pipeline\n",
    "from sklearn.compose import ColumnTransformer\n",
    "from sklearn.impute import SimpleImputer\n",
    "from sklearn.preprocessing import OneHotEncoder\n",
    "from sklearn.model_selection import train_test_split"
   ]
  },
  {
   "cell_type": "markdown",
   "id": "042af48b-5a6d-474d-892f-e902a3cbeb5f",
   "metadata": {},
   "source": [
    "#### Commençons par les fonctionnalités catégoriques"
   ]
  },
  {
   "cell_type": "code",
   "execution_count": 436,
   "id": "8efcc8fd-c091-4220-bf5e-e7e362d944a1",
   "metadata": {
    "tags": []
   },
   "outputs": [],
   "source": [
    "categorical_feaures = [\"Make\", \"Colour\"]\n",
    "categorical_transformer = Pipeline(steps=[(\"imputer\", SimpleImputer(strategy=\"constant\", fill_value=\"missing\")),\n",
    "                                          (\"onehot\", OneHotEncoder(handle_unknown=\"ignore\"))])"
   ]
  },
  {
   "cell_type": "markdown",
   "id": "76c933c6-93f1-4f7a-878c-8a07a2b8f1cf",
   "metadata": {},
   "source": [
    "#### Il serait également prudent de traiter les portes comme une caractéristique catégorique, mais comme nous savons que la grande majorité des voitures ont 4 portes, nous imputerons les valeurs de portes manquantes à 4."
   ]
  },
  {
   "cell_type": "code",
   "execution_count": 437,
   "id": "f51d456c-4826-42f7-891d-a7861b23c42e",
   "metadata": {},
   "outputs": [],
   "source": [
    "door_feature = [\"Doors\"]\n",
    "door_transformer = Pipeline(steps=[(\"imputer\", SimpleImputer(strategy=\"constant\", fill_value=4))])"
   ]
  },
  {
   "cell_type": "markdown",
   "id": "d40d7733-0ae2-4d34-89cf-af0742c0b09c",
   "metadata": {},
   "source": [
    "#### Passons maintenant aux caractéristiques numériques. Dans ce cas, la seule caractéristique numérique est la colonne Odomètre (KM). Remplissons ses valeurs manquantes avec la médiane."
   ]
  },
  {
   "cell_type": "code",
   "execution_count": 438,
   "id": "3580fceb-ecdd-4cbf-8696-b25a52bf0196",
   "metadata": {},
   "outputs": [],
   "source": [
    "door_feature = [\"Odometer (KM)\"]\n",
    "numeric_transformer = Pipeline(steps=[(\"imputer\", SimpleImputer(strategy=\"Median\"))])"
   ]
  },
  {
   "cell_type": "markdown",
   "id": "fb53c9bf-9e86-4a9f-951a-c7fed734fa32",
   "metadata": {},
   "source": [
    "#### Il est temps de mettre tous nos pipelines de transformateurs individuels dans une seule instance de ColumnTransformer."
   ]
  },
  {
   "cell_type": "code",
   "execution_count": 439,
   "id": "45b614d8-aea8-45be-b936-a7297626644f",
   "metadata": {},
   "outputs": [],
   "source": [
    "preprocessor = ColumnTransformer(\n",
    "        transformers=[(\"cat\", categorical_transformer),\n",
    "                      (\"door\", door_transformer),\n",
    "                      (\"num\", numeric_transformer)])"
   ]
  },
  {
   "cell_type": "markdown",
   "id": "a21234ef-b6f6-4a72-a351-30f90ca991bd",
   "metadata": {},
   "source": [
    "#### Maintenant, notre preprocessing est prêt, il est temps d'importer des modèles de régression pour les essayer."
   ]
  },
  {
   "cell_type": "markdown",
   "id": "877a08ca-ee08-48e0-843e-db0635e114c4",
   "metadata": {
    "tags": []
   },
   "source": [
    "#### En comparant nos données à la carte d'apprentissage automatique Scikit-Learn, nous pouvons voir qu'il existe une poignée de modèles de régression différents que nous pouvons essayer."
   ]
  },
  {
   "cell_type": "code",
   "execution_count": 440,
   "id": "926dcdd9-58d9-4a68-9780-3fbee209a9e0",
   "metadata": {},
   "outputs": [],
   "source": [
    "from sklearn.linear_model import Ridge\n",
    "from sklearn.svm import SVR\n",
    "from sklearn.ensemble import RandomForestRegressor"
   ]
  },
  {
   "cell_type": "code",
   "execution_count": 441,
   "id": "2507f115-7428-4873-9a21-e8dd9af4d641",
   "metadata": {},
   "outputs": [],
   "source": [
    "regression_models = {\"Ridge\" : Ridge(),\n",
    "                    \"SVR_linear\" : SVR(kernel=\"linear\"),\n",
    "                    \"SVR_rbf\" : SVR(kernel=\"rbf\"),\n",
    "                    \"RandomForestRegressor\" : RandomForestRegressor(),\n",
    "}"
   ]
  },
  {
   "cell_type": "raw",
   "id": "56bcc937-27a9-480d-b889-8c553e4c8bb8",
   "metadata": {
    "tags": []
   },
   "source": [
    "car_sales_X = car_sales.drop(\"Price\", axis=1)\n",
    "car_sales_y = car_sales.Price"
   ]
  },
  {
   "cell_type": "markdown",
   "id": "cbceee87-d1ea-42de-bdb4-82451f95a5dc",
   "metadata": {},
   "source": [
    "#### Dans notre problème de vente de voitures, nous essayons d'utiliser les différentes caractéristiques de car (X) pour prédire son prix de price (y)"
   ]
  },
  {
   "cell_type": "code",
   "execution_count": 463,
   "id": "b6ddef73-e2ae-4e63-82e9-0d331a322aef",
   "metadata": {},
   "outputs": [],
   "source": [
    "car_X_train, car_X_test, car_y_train, car_y_test = train_test_split(car_sales_X,\n",
    "                                                                    car_sales_y,\n",
    "                                                                    test_size = 0.3,\n",
    "                                                                   random_state = 42,\n",
    "                                                                   )"
   ]
  },
  {
   "cell_type": "markdown",
   "id": "508f3752-78ab-4167-8059-76e8ac7dc386",
   "metadata": {},
   "source": [
    "#### Combien de lignes y a-t-il dans chaque ensemble ?\n",
    "#### Combien de colonnes y a-t-il dans chaque ensemble ?"
   ]
  },
  {
   "cell_type": "code",
   "execution_count": 464,
   "id": "86a3f9ae-5e95-4deb-9cc9-c57769be97a6",
   "metadata": {},
   "outputs": [
    {
     "name": "stdout",
     "output_type": "stream",
     "text": [
      "car_X_train :  (3, 2)\n",
      "car_X_test :  (2, 2)\n",
      "car_y_train :  (3,)\n",
      "car_y_test :  (2,)\n"
     ]
    }
   ],
   "source": [
    "print(\"car_X_train : \", car_X_train.shape)\n",
    "print(\"car_X_test : \", car_X_test.shape)\n",
    "print(\"car_y_train : \", car_y_train.shape)\n",
    "print(\"car_y_test : \", car_y_test.shape)"
   ]
  },
  {
   "cell_type": "markdown",
   "id": "97e721bd-0927-4a7f-973a-28efae11e16b",
   "metadata": {},
   "source": [
    "#### Évalue le modèle cible sur les données de test des ventes de voitures et ajoute les résultats à notre dictionnaire regression_results"
   ]
  },
  {
   "cell_type": "raw",
   "id": "81b6f602-6d8f-4d1e-bff7-fe662a8ad56f",
   "metadata": {},
   "source": [
    "regression_results = {}\n",
    "for model_name, model in regression_models.items():\n",
    "    model_pipeline = Pipeline(steps=[(\"preprocessor\", preprocessor),\n",
    "                                    (\"model\", model)])\n",
    "    print(f\"Fitting {model_name}...\")\n",
    "    model_pipeline.fit(car_X_train, car_y_train)\n",
    "    print(f\"Scoring {model_name}...\")\n",
    "    regression_results[model_name] = model_pipeline.score(car_X_test, car_y_test)\n",
    "regression_results"
   ]
  },
  {
   "cell_type": "markdown",
   "id": "7eb0a62b-7dab-49fa-86b3-f20078175733",
   "metadata": {},
   "source": [
    "#### Prenons le modèle RidgeRegression et évaluons-le avec quelques autres métriques de régression."
   ]
  },
  {
   "cell_type": "code",
   "execution_count": 480,
   "id": "d9067e99-fb68-496d-ba5a-3a116723dc8c",
   "metadata": {},
   "outputs": [],
   "source": [
    "from sklearn.metrics import mean_absolute_error\n",
    "from sklearn.metrics import mean_squared_error\n",
    "from sklearn.metrics import r2_score"
   ]
  },
  {
   "cell_type": "code",
   "execution_count": 481,
   "id": "7f216dcb-8876-478e-a43c-650ec3bbff53",
   "metadata": {},
   "outputs": [],
   "source": [
    "rdg = Ridge(alpha=1.0)\n",
    "rdg.fit(car_X_train, car_y_train)\n",
    "car_y_preds = rdg.predict(car_X_test)"
   ]
  },
  {
   "cell_type": "markdown",
   "id": "380bf8f4-4af6-466a-9d77-44dea79bdad0",
   "metadata": {},
   "source": [
    "#### Nous avons quelques prédictions, il est temps de les évaluer. Nous trouverons l'erreur quadratique moyenne (MSE), l'erreur absolue moyenne (MAE) et le score R ^ 2 (coefficient de détermination) de notre modèle."
   ]
  },
  {
   "cell_type": "code",
   "execution_count": 482,
   "id": "b2e6a516-a87e-451e-ab74-15fe368b02f4",
   "metadata": {},
   "outputs": [
    {
     "data": {
      "text/plain": [
       "66912221.336623564"
      ]
     },
     "execution_count": 482,
     "metadata": {},
     "output_type": "execute_result"
    }
   ],
   "source": [
    "mse = mean_squared_error(car_y_test, car_y_preds)\n",
    "mse"
   ]
  },
  {
   "cell_type": "code",
   "execution_count": 483,
   "id": "03cfd9ce-fe46-42d6-b5d2-6ec341762296",
   "metadata": {},
   "outputs": [
    {
     "data": {
      "text/plain": [
       "8175.951078062126"
      ]
     },
     "execution_count": 483,
     "metadata": {},
     "output_type": "execute_result"
    }
   ],
   "source": [
    "mae = mean_absolute_error(car_y_test, car_y_preds)\n",
    "mae"
   ]
  },
  {
   "cell_type": "code",
   "execution_count": 484,
   "id": "1c3e3164-dfab-4bba-b185-12b63856ddeb",
   "metadata": {},
   "outputs": [
    {
     "data": {
      "text/plain": [
       "-11.116291776663388"
      ]
     },
     "execution_count": 484,
     "metadata": {},
     "output_type": "execute_result"
    }
   ],
   "source": [
    "r2 = r2_score(car_y_test, car_y_preds)\n",
    "r2"
   ]
  },
  {
   "cell_type": "markdown",
   "id": "d18b667a-3cba-4d18-be5c-495bee1083e2",
   "metadata": {},
   "source": [
    "#### Notre modèle pourrait potentiellement faire avec un réglage d'hyperparamètres (ce serait une excellente extension). Et nous pourrions probablement avoir besoin de trouver plus de données sur notre problème, 1000 lignes ne semblent pas être suffisantes. Comment exporteriez-vous le modèle de régression entraîné?"
   ]
  },
  {
   "cell_type": "code",
   "execution_count": 486,
   "id": "d36ae318-1f0b-4e77-9512-95b4f0541e7a",
   "metadata": {},
   "outputs": [
    {
     "data": {
      "text/plain": [
       "['ridge_model']"
      ]
     },
     "execution_count": 486,
     "metadata": {},
     "output_type": "execute_result"
    }
   ],
   "source": [
    "from joblib import dump, load\n",
    "dump(clf, \"ridge_model\")"
   ]
  }
 ],
 "metadata": {
  "kernelspec": {
   "display_name": "Python 3",
   "language": "python",
   "name": "python3"
  },
  "language_info": {
   "codemirror_mode": {
    "name": "ipython",
    "version": 3
   },
   "file_extension": ".py",
   "mimetype": "text/x-python",
   "name": "python",
   "nbconvert_exporter": "python",
   "pygments_lexer": "ipython3",
   "version": "3.8.8"
  }
 },
 "nbformat": 4,
 "nbformat_minor": 5
}
